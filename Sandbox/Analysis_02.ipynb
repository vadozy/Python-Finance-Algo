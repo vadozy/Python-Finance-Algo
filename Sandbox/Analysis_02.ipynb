{
 "cells": [
  {
   "cell_type": "markdown",
   "metadata": {},
   "source": [
    "<b> Computing Sharpe Ratio on existing shares allocation </b>\n",
    "\n",
    "<pre>\n",
    "Symbol  Shares  Acquired\n",
    "AAPL    420     2014-07-07\n",
    "GOOG    17      2014-06-26\n",
    "TSLA    51      2015-03-03\n",
    "TWTR    1396    2014-07-02\n",
    "UNH     1464    2014-07-07\n",
    "</pre>"
   ]
  },
  {
   "cell_type": "code",
   "execution_count": null,
   "metadata": {},
   "outputs": [],
   "source": [
    "import numpy as np\n",
    "import pandas as pd\n",
    "\n",
    "import matplotlib.pyplot as plt\n",
    "%matplotlib inline\n",
    "\n",
    "import util"
   ]
  },
  {
   "cell_type": "code",
   "execution_count": null,
   "metadata": {},
   "outputs": [],
   "source": [
    "#stocks_dir = '/Volumes/Photos/stocks/'\n",
    "stocks_dir = './'\n",
    "\n",
    "symbols = ['UNH', 'AAPL', 'GOOG', 'TSLA', 'TWTR']\n",
    "\n",
    "stocks = {}\n",
    "\n",
    "for s in symbols:\n",
    "    file_name = stocks_dir + s + '.csv'\n",
    "    df = pd.read_csv(file_name, index_col='Date', parse_dates=True, usecols=['Date', 'Adj. Close'])\n",
    "    stocks[s] = df\n",
    "\n",
    "\n",
    "sp500 = pd.read_csv('SP500_yahoo.csv', index_col='Date', parse_dates=True, na_values=['.'])\n",
    "sp500 = sp500[['Adj Close']]\n",
    "sp500.columns = ['Adj. Close']\n",
    "\n",
    "symbols.extend(['SP500'])\n",
    "stocks['SP500']  = sp500\n"
   ]
  },
  {
   "cell_type": "code",
   "execution_count": null,
   "metadata": {},
   "outputs": [],
   "source": [
    "shares = {'UNH': 1464, 'AAPL': 420, 'GOOG': 17, 'TSLA': 51, 'TWTR': 1396, 'SP500': 0}\n",
    "\n",
    "for sym, df in stocks.items():\n",
    "    #df['daily_ret'] = df['Adj. Close'].pct_change(1)\n",
    "    df['log_ret'] = np.log(df['Adj. Close']/df['Adj. Close'].shift(1))\n",
    "    df['shares'] = shares[sym]\n",
    "    df['alloc'] = df['shares'] * df['Adj. Close']\n",
    "    df.drop(columns=['shares', 'Adj. Close'], inplace=True)\n",
    "    df.columns = [ sym + ' ' + c for c in df.columns]"
   ]
  },
  {
   "cell_type": "code",
   "execution_count": null,
   "metadata": {},
   "outputs": [],
   "source": [
    "d1, d2 = '2014-04-01', '2018-03-15'\n",
    "df = pd.concat(stocks.values(), axis=1).loc[d1:d2].copy()"
   ]
  },
  {
   "cell_type": "code",
   "execution_count": null,
   "metadata": {},
   "outputs": [],
   "source": [
    "df['alloc'] = sum([df[sym + ' alloc'] for sym in symbols])\n",
    "\n",
    "for sym in symbols:\n",
    "    df[sym + ' weight'] = df[sym + ' alloc'] / df['alloc']"
   ]
  },
  {
   "cell_type": "code",
   "execution_count": null,
   "metadata": {},
   "outputs": [],
   "source": [
    "df.loc['2014-07-02':].head()"
   ]
  },
  {
   "cell_type": "code",
   "execution_count": null,
   "metadata": {},
   "outputs": [],
   "source": [
    "#d1, d2 = '2014-07-02', '2018-01-01'\n",
    "d1, d2 = '2017-01-01', '2018-01-01'\n",
    "\n",
    "print(\"Real Return: {}\".format(df.loc[d1:d2].iloc[-1]['alloc'] / df.loc[d1:d2].iloc[0]['alloc']))\n",
    "\n",
    "df2 = df.loc[d1:d2]\n",
    "\n",
    "# Expected Return\n",
    "print('Historic Portfolio Return')\n",
    "log_ret = df2[[sym + ' log_ret' for sym in symbols]]\n",
    "log_ret.columns = range(len(log_ret.columns))\n",
    "#print(log_ret.head())\n",
    "\n",
    "weights = df2[[sym + ' weight' for sym in symbols]]\n",
    "weights.columns = range(len(weights.columns))\n",
    "#print(weights.head())\n",
    "\n",
    "exp_ret = (log_ret * weights).sum(axis=1).mean() * 252\n",
    "print(exp_ret + 1)\n",
    "print('\\n')\n",
    "\n",
    "\n",
    "# Expected Volatility\n",
    "print('Expected Volatility')\n",
    "exp_vol = np.sqrt((log_ret * weights).sum(axis=1).var() * 252)\n",
    "print(exp_vol)\n",
    "print('\\n')\n",
    "\n",
    "# Sharpe Ratio\n",
    "SR = exp_ret/exp_vol\n",
    "print('Sharpe Ratio')\n",
    "print(SR)"
   ]
  },
  {
   "cell_type": "code",
   "execution_count": null,
   "metadata": {},
   "outputs": [],
   "source": [
    "def sharpe(df, d1, d2):\n",
    "    \n",
    "    df2 = df.loc[d1:d2]\n",
    "    \n",
    "    # Expected Return\n",
    "    log_ret = df2[[sym + ' log_ret' for sym in symbols]]\n",
    "    log_ret.columns = range(len(log_ret.columns))\n",
    "    weights = df2[[sym + ' weight' for sym in symbols]]\n",
    "    weights.columns = range(len(weights.columns))\n",
    "    exp_ret = (log_ret * weights).sum(axis=1).mean() * 252\n",
    "\n",
    "    # Expected Volatility\n",
    "    exp_vol = np.sqrt((log_ret * weights).sum(axis=1).var() * 252)\n",
    "\n",
    "    # Sharpe Ratio\n",
    "    SR = exp_ret/exp_vol\n",
    "    return SR"
   ]
  },
  {
   "cell_type": "code",
   "execution_count": null,
   "metadata": {},
   "outputs": [],
   "source": [
    "sharpe(df, d1, d2)"
   ]
  },
  {
   "cell_type": "code",
   "execution_count": null,
   "metadata": {},
   "outputs": [],
   "source": [
    "start_date, end_date, months = '2014-01-01', '2018-01-01', 12\n",
    "it = util.generate_periods(start_date, end_date, months, months_overlap=0)\n",
    "\n",
    "for d1, d2 in it:\n",
    "    print(sharpe(df, d1, d2))"
   ]
  },
  {
   "cell_type": "code",
   "execution_count": null,
   "metadata": {},
   "outputs": [],
   "source": [
    "start_date, end_date, months = '2014-01-01', '2018-01-01', 12\n",
    "it = util.generate_periods(start_date, end_date, months, months_overlap=6)\n",
    "\n",
    "for d1, d2 in it:\n",
    "    print(sharpe(df, d1, d2))"
   ]
  },
  {
   "cell_type": "code",
   "execution_count": null,
   "metadata": {},
   "outputs": [],
   "source": [
    "start_date, end_date, months = '2014-01-01', '2018-01-01', 3\n",
    "it = util.generate_periods(start_date, end_date, months, months_overlap=1)\n",
    "\n",
    "for d1, d2 in it:\n",
    "    print(sharpe(df, d1, d2))"
   ]
  },
  {
   "cell_type": "code",
   "execution_count": null,
   "metadata": {},
   "outputs": [],
   "source": []
  },
  {
   "cell_type": "code",
   "execution_count": null,
   "metadata": {},
   "outputs": [],
   "source": []
  }
 ],
 "metadata": {
  "kernelspec": {
   "display_name": "Python 3",
   "language": "python",
   "name": "python3"
  },
  "language_info": {
   "codemirror_mode": {
    "name": "ipython",
    "version": 3
   },
   "file_extension": ".py",
   "mimetype": "text/x-python",
   "name": "python",
   "nbconvert_exporter": "python",
   "pygments_lexer": "ipython3",
   "version": "3.6.4"
  }
 },
 "nbformat": 4,
 "nbformat_minor": 2
}
