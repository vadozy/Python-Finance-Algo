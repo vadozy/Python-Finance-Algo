{
 "cells": [
  {
   "cell_type": "code",
   "execution_count": null,
   "metadata": {},
   "outputs": [],
   "source": [
    "import numpy as np\n",
    "import pandas as pd\n",
    "import matplotlib.pyplot as plt\n",
    "%matplotlib inline\n",
    "\n",
    "import quandl\n",
    "\n",
    "import util"
   ]
  },
  {
   "cell_type": "code",
   "execution_count": null,
   "metadata": {},
   "outputs": [],
   "source": [
    "unh  = quandl.get(\"WIKI/UNH\", start_date=\"2000-01-01\", end_date=\"2018-03-10\")\n",
    "aapl = quandl.get(\"WIKI/AAPL\", start_date=\"2000-01-01\", end_date=\"2018-03-10\")\n",
    "tsla = quandl.get(\"WIKI/TSLA\", start_date=\"2000-01-01\", end_date=\"2018-03-10\")\n",
    "twtr = quandl.get(\"WIKI/TWTR\", start_date=\"2000-01-01\", end_date=\"2018-03-10\")\n",
    "goog = quandl.get(\"WIKI/GOOG\", start_date=\"2000-01-01\", end_date=\"2018-03-10\")\n",
    "ci   = quandl.get(\"WIKI/CI\", start_date=\"2000-01-01\", end_date=\"2018-03-10\")"
   ]
  },
  {
   "cell_type": "code",
   "execution_count": null,
   "metadata": {},
   "outputs": [],
   "source": [
    "print(len(unh))\n",
    "print(len(aapl))\n",
    "print(len(tsla))\n",
    "print(len(twtr))\n",
    "print(len(goog))\n",
    "print(len(ci))\n",
    "unh.head()"
   ]
  },
  {
   "cell_type": "code",
   "execution_count": null,
   "metadata": {},
   "outputs": [],
   "source": [
    "ru2000 = pd.read_csv('RUSSELL2000.csv', index_col='DATE', parse_dates=True, na_values=['.'])\n",
    "ru2000 = ru2000.dropna()\n",
    "ru2000.head()\n",
    "ru2000.columns = ['Adj. Close']"
   ]
  },
  {
   "cell_type": "code",
   "execution_count": null,
   "metadata": {},
   "outputs": [],
   "source": [
    "# key - symbol, value - series\n",
    "stocks = {\"Russell 2000\": ru2000, \"UNH (UHG)\": unh, \"TWTR\": twtr, \n",
    "          \"TSLA\": tsla, \"GOOG\": goog, \"AAPL\": aapl, \n",
    "          \"CI (CYGNA)\": ci}\n",
    "\n",
    "df_ret_bp = pd.DataFrame()\n",
    "\n",
    "for k, df in stocks.items():\n",
    "    df['ret_bp'] = 1e4 * df['Adj. Close'].pct_change().fillna(0)\n",
    "    df['cum_ret'] = (1 + df['ret_bp'] / 1e4).cumprod()\n",
    "    df_ret_bp[k] = df['ret_bp']\n",
    "\n",
    "date_from = '2014-04-01'\n",
    "date_to = '2018-03-01'\n",
    "\n",
    "for k, v in stocks.items():\n",
    "    print(\"[{:<14}] : {}\".format(k, util.accumulated_returns(v['Adj. Close'], date_from, date_to)))"
   ]
  },
  {
   "cell_type": "code",
   "execution_count": null,
   "metadata": {},
   "outputs": [],
   "source": [
    "unh.cum_ret.loc[date_from:date_to].iloc[-1] / unh.cum_ret.loc[date_from:date_to].iloc[0]"
   ]
  },
  {
   "cell_type": "code",
   "execution_count": null,
   "metadata": {},
   "outputs": [],
   "source": [
    "df_ret_bp.corr()"
   ]
  },
  {
   "cell_type": "code",
   "execution_count": null,
   "metadata": {},
   "outputs": [],
   "source": [
    "unh.head()"
   ]
  },
  {
   "cell_type": "code",
   "execution_count": null,
   "metadata": {},
   "outputs": [],
   "source": [
    "df_ret_bp.head()"
   ]
  },
  {
   "cell_type": "code",
   "execution_count": null,
   "metadata": {},
   "outputs": [],
   "source": [
    "df_ret_bp['UNH (UHG)'].corr(df_ret_bp['CI (CYGNA)'])"
   ]
  },
  {
   "cell_type": "code",
   "execution_count": null,
   "metadata": {},
   "outputs": [],
   "source": [
    "df_ret_bp2 = df_ret_bp.loc['2017-01-01':'2018-04-01']\n",
    "df_ret_bp2['UNH (UHG)'].corr(df_ret_bp2['TWTR'])"
   ]
  },
  {
   "cell_type": "code",
   "execution_count": null,
   "metadata": {},
   "outputs": [],
   "source": []
  }
 ],
 "metadata": {
  "kernelspec": {
   "display_name": "Python 3",
   "language": "python",
   "name": "python3"
  },
  "language_info": {
   "codemirror_mode": {
    "name": "ipython",
    "version": 3
   },
   "file_extension": ".py",
   "mimetype": "text/x-python",
   "name": "python",
   "nbconvert_exporter": "python",
   "pygments_lexer": "ipython3",
   "version": "3.6.4"
  }
 },
 "nbformat": 4,
 "nbformat_minor": 2
}
