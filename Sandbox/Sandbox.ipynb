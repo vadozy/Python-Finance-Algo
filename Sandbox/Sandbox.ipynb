{
 "cells": [
  {
   "cell_type": "code",
   "execution_count": 1,
   "metadata": {},
   "outputs": [],
   "source": [
    "import numpy as np\n",
    "import pandas as pd\n",
    "import matplotlib.pyplot as plt\n",
    "%matplotlib inline\n",
    "\n",
    "import quandl"
   ]
  },
  {
   "cell_type": "code",
   "execution_count": 2,
   "metadata": {},
   "outputs": [],
   "source": [
    "unh = quandl.get(\"WIKI/UNH\", start_date=\"2000-01-01\", end_date=\"2018-03-10\")"
   ]
  },
  {
   "cell_type": "code",
   "execution_count": 52,
   "metadata": {},
   "outputs": [],
   "source": [
    "aapl = quandl.get(\"WIKI/AAPL\", start_date=\"2000-01-01\", end_date=\"2018-03-10\")\n",
    "tsla = quandl.get(\"WIKI/TSLA\", start_date=\"2000-01-01\", end_date=\"2018-03-10\")\n",
    "twtr = quandl.get(\"WIKI/TWTR\", start_date=\"2000-01-01\", end_date=\"2018-03-10\")\n",
    "goog = quandl.get(\"WIKI/GOOG\", start_date=\"2000-01-01\", end_date=\"2018-03-10\")"
   ]
  },
  {
   "cell_type": "code",
   "execution_count": 22,
   "metadata": {},
   "outputs": [
    {
     "name": "stdout",
     "output_type": "stream",
     "text": [
      "4574\n"
     ]
    },
    {
     "data": {
      "text/html": [
       "<div>\n",
       "<style scoped>\n",
       "    .dataframe tbody tr th:only-of-type {\n",
       "        vertical-align: middle;\n",
       "    }\n",
       "\n",
       "    .dataframe tbody tr th {\n",
       "        vertical-align: top;\n",
       "    }\n",
       "\n",
       "    .dataframe thead th {\n",
       "        text-align: right;\n",
       "    }\n",
       "</style>\n",
       "<table border=\"1\" class=\"dataframe\">\n",
       "  <thead>\n",
       "    <tr style=\"text-align: right;\">\n",
       "      <th></th>\n",
       "      <th>Open</th>\n",
       "      <th>High</th>\n",
       "      <th>Low</th>\n",
       "      <th>Close</th>\n",
       "      <th>Volume</th>\n",
       "      <th>Ex-Dividend</th>\n",
       "      <th>Split Ratio</th>\n",
       "      <th>Adj. Open</th>\n",
       "      <th>Adj. High</th>\n",
       "      <th>Adj. Low</th>\n",
       "      <th>Adj. Close</th>\n",
       "      <th>Adj. Volume</th>\n",
       "    </tr>\n",
       "    <tr>\n",
       "      <th>Date</th>\n",
       "      <th></th>\n",
       "      <th></th>\n",
       "      <th></th>\n",
       "      <th></th>\n",
       "      <th></th>\n",
       "      <th></th>\n",
       "      <th></th>\n",
       "      <th></th>\n",
       "      <th></th>\n",
       "      <th></th>\n",
       "      <th></th>\n",
       "      <th></th>\n",
       "    </tr>\n",
       "  </thead>\n",
       "  <tbody>\n",
       "    <tr>\n",
       "      <th>2000-01-03</th>\n",
       "      <td>53.12</td>\n",
       "      <td>54.06</td>\n",
       "      <td>52.94</td>\n",
       "      <td>53.75</td>\n",
       "      <td>428900.0</td>\n",
       "      <td>0.0</td>\n",
       "      <td>1.0</td>\n",
       "      <td>5.874926</td>\n",
       "      <td>5.978887</td>\n",
       "      <td>5.855018</td>\n",
       "      <td>5.944602</td>\n",
       "      <td>3431200.0</td>\n",
       "    </tr>\n",
       "    <tr>\n",
       "      <th>2000-01-04</th>\n",
       "      <td>53.38</td>\n",
       "      <td>54.25</td>\n",
       "      <td>52.94</td>\n",
       "      <td>53.06</td>\n",
       "      <td>749700.0</td>\n",
       "      <td>0.0</td>\n",
       "      <td>1.0</td>\n",
       "      <td>5.903681</td>\n",
       "      <td>5.999901</td>\n",
       "      <td>5.855018</td>\n",
       "      <td>5.868290</td>\n",
       "      <td>5997600.0</td>\n",
       "    </tr>\n",
       "    <tr>\n",
       "      <th>2000-01-05</th>\n",
       "      <td>53.12</td>\n",
       "      <td>54.19</td>\n",
       "      <td>52.62</td>\n",
       "      <td>52.94</td>\n",
       "      <td>1320300.0</td>\n",
       "      <td>0.0</td>\n",
       "      <td>1.0</td>\n",
       "      <td>5.874926</td>\n",
       "      <td>5.993265</td>\n",
       "      <td>5.819627</td>\n",
       "      <td>5.855018</td>\n",
       "      <td>10562400.0</td>\n",
       "    </tr>\n",
       "    <tr>\n",
       "      <th>2000-01-06</th>\n",
       "      <td>53.00</td>\n",
       "      <td>55.50</td>\n",
       "      <td>52.88</td>\n",
       "      <td>54.88</td>\n",
       "      <td>1912500.0</td>\n",
       "      <td>0.0</td>\n",
       "      <td>1.0</td>\n",
       "      <td>5.861654</td>\n",
       "      <td>6.138147</td>\n",
       "      <td>5.848382</td>\n",
       "      <td>6.069577</td>\n",
       "      <td>15300000.0</td>\n",
       "    </tr>\n",
       "    <tr>\n",
       "      <th>2000-01-07</th>\n",
       "      <td>57.50</td>\n",
       "      <td>61.50</td>\n",
       "      <td>56.88</td>\n",
       "      <td>61.31</td>\n",
       "      <td>2020100.0</td>\n",
       "      <td>0.0</td>\n",
       "      <td>1.0</td>\n",
       "      <td>6.359342</td>\n",
       "      <td>6.801731</td>\n",
       "      <td>6.290771</td>\n",
       "      <td>6.780717</td>\n",
       "      <td>16160800.0</td>\n",
       "    </tr>\n",
       "  </tbody>\n",
       "</table>\n",
       "</div>"
      ],
      "text/plain": [
       "             Open   High    Low  Close     Volume  Ex-Dividend  Split Ratio  \\\n",
       "Date                                                                          \n",
       "2000-01-03  53.12  54.06  52.94  53.75   428900.0          0.0          1.0   \n",
       "2000-01-04  53.38  54.25  52.94  53.06   749700.0          0.0          1.0   \n",
       "2000-01-05  53.12  54.19  52.62  52.94  1320300.0          0.0          1.0   \n",
       "2000-01-06  53.00  55.50  52.88  54.88  1912500.0          0.0          1.0   \n",
       "2000-01-07  57.50  61.50  56.88  61.31  2020100.0          0.0          1.0   \n",
       "\n",
       "            Adj. Open  Adj. High  Adj. Low  Adj. Close  Adj. Volume  \n",
       "Date                                                                 \n",
       "2000-01-03   5.874926   5.978887  5.855018    5.944602    3431200.0  \n",
       "2000-01-04   5.903681   5.999901  5.855018    5.868290    5997600.0  \n",
       "2000-01-05   5.874926   5.993265  5.819627    5.855018   10562400.0  \n",
       "2000-01-06   5.861654   6.138147  5.848382    6.069577   15300000.0  \n",
       "2000-01-07   6.359342   6.801731  6.290771    6.780717   16160800.0  "
      ]
     },
     "execution_count": 22,
     "metadata": {},
     "output_type": "execute_result"
    }
   ],
   "source": [
    "print(len(unh))\n",
    "unh.head()"
   ]
  },
  {
   "cell_type": "code",
   "execution_count": 26,
   "metadata": {},
   "outputs": [
    {
     "data": {
      "text/plain": [
       "DatetimeIndex(['2000-01-03', '2000-01-04', '2000-01-05', '2000-01-06',\n",
       "               '2000-01-07', '2000-01-10', '2000-01-11', '2000-01-12',\n",
       "               '2000-01-13', '2000-01-14',\n",
       "               ...\n",
       "               '2018-02-26', '2018-02-27', '2018-02-28', '2018-03-01',\n",
       "               '2018-03-02', '2018-03-05', '2018-03-06', '2018-03-07',\n",
       "               '2018-03-08', '2018-03-09'],\n",
       "              dtype='datetime64[ns]', name='Date', length=4574, freq=None)"
      ]
     },
     "execution_count": 26,
     "metadata": {},
     "output_type": "execute_result"
    }
   ],
   "source": [
    "unh.index"
   ]
  },
  {
   "cell_type": "code",
   "execution_count": 44,
   "metadata": {},
   "outputs": [],
   "source": [
    "ru2000 = pd.read_csv('RUSSELL2000.csv', index_col='DATE', parse_dates=True, na_values=['.'])\n",
    "ru2000 = ru2000.dropna()\n",
    "ru2000.columns = ['Price']"
   ]
  },
  {
   "cell_type": "code",
   "execution_count": 45,
   "metadata": {},
   "outputs": [
    {
     "data": {
      "text/html": [
       "<div>\n",
       "<style scoped>\n",
       "    .dataframe tbody tr th:only-of-type {\n",
       "        vertical-align: middle;\n",
       "    }\n",
       "\n",
       "    .dataframe tbody tr th {\n",
       "        vertical-align: top;\n",
       "    }\n",
       "\n",
       "    .dataframe thead th {\n",
       "        text-align: right;\n",
       "    }\n",
       "</style>\n",
       "<table border=\"1\" class=\"dataframe\">\n",
       "  <thead>\n",
       "    <tr style=\"text-align: right;\">\n",
       "      <th></th>\n",
       "      <th>Price</th>\n",
       "    </tr>\n",
       "    <tr>\n",
       "      <th>DATE</th>\n",
       "      <th></th>\n",
       "    </tr>\n",
       "  </thead>\n",
       "  <tbody>\n",
       "    <tr>\n",
       "      <th>2000-03-10</th>\n",
       "      <td>1502.49</td>\n",
       "    </tr>\n",
       "    <tr>\n",
       "      <th>2000-03-13</th>\n",
       "      <td>1468.42</td>\n",
       "    </tr>\n",
       "    <tr>\n",
       "      <th>2000-03-14</th>\n",
       "      <td>1425.42</td>\n",
       "    </tr>\n",
       "    <tr>\n",
       "      <th>2000-03-15</th>\n",
       "      <td>1391.19</td>\n",
       "    </tr>\n",
       "    <tr>\n",
       "      <th>2000-03-16</th>\n",
       "      <td>1428.58</td>\n",
       "    </tr>\n",
       "  </tbody>\n",
       "</table>\n",
       "</div>"
      ],
      "text/plain": [
       "              Price\n",
       "DATE               \n",
       "2000-03-10  1502.49\n",
       "2000-03-13  1468.42\n",
       "2000-03-14  1425.42\n",
       "2000-03-15  1391.19\n",
       "2000-03-16  1428.58"
      ]
     },
     "execution_count": 45,
     "metadata": {},
     "output_type": "execute_result"
    }
   ],
   "source": [
    "ru2000.head()"
   ]
  },
  {
   "cell_type": "code",
   "execution_count": 46,
   "metadata": {},
   "outputs": [
    {
     "data": {
      "text/plain": [
       "DatetimeIndex(['2000-03-10', '2000-03-13', '2000-03-14', '2000-03-15',\n",
       "               '2000-03-16', '2000-03-17', '2000-03-20', '2000-03-21',\n",
       "               '2000-03-22', '2000-03-23',\n",
       "               ...\n",
       "               '2018-02-26', '2018-02-27', '2018-02-28', '2018-03-01',\n",
       "               '2018-03-02', '2018-03-05', '2018-03-06', '2018-03-07',\n",
       "               '2018-03-08', '2018-03-09'],\n",
       "              dtype='datetime64[ns]', name='DATE', length=4536, freq=None)"
      ]
     },
     "execution_count": 46,
     "metadata": {},
     "output_type": "execute_result"
    }
   ],
   "source": [
    "ru2000.index"
   ]
  },
  {
   "cell_type": "code",
   "execution_count": 59,
   "metadata": {},
   "outputs": [
    {
     "name": "stdout",
     "output_type": "stream",
     "text": [
      "[Russell 2000]: 1.3596930905448223\n",
      "[UNH]: 1.977113584947573\n",
      "[TWTR]: 1.4290780141843973\n",
      "[TSLA]: 1.4812676245467975\n",
      "[GOOG]: 1.4417124986520002\n",
      "[AAPL]: 1.719331199727012\n"
     ]
    }
   ],
   "source": [
    "# Calculate accumulated returns between 2 dates\n",
    "def accumulated_returns(series, date_from, date_to):\n",
    "    _series = series.loc[date_from:date_to]\n",
    "    return _series.iloc[-1] / _series.iloc[0]\n",
    "\n",
    "\n",
    "date_from = '2016-01-01'\n",
    "date_to = '2018-03-01'\n",
    "\n",
    "unh_returns = accumulated_returns(unh['Adj. Close'], date_from, date_to)\n",
    "aapl_returns = accumulated_returns(aapl['Adj. Close'], date_from, date_to)\n",
    "tsla_returns = accumulated_returns(tsla['Adj. Close'], date_from, date_to)\n",
    "twtr_returns = accumulated_returns(twtr['Adj. Close'], date_from, date_to)\n",
    "goog_returns = accumulated_returns(goog['Adj. Close'], date_from, date_to)\n",
    "ru2000_returns = accumulated_returns(ru2000['Price'], date_from, date_to)\n",
    "\n",
    "print(\"[Russell 2000]: {}\".format(ru2000_returns))\n",
    "print(\"[UNH]: {}\".format(unh_returns))\n",
    "print(\"[TWTR]: {}\".format(twtr_returns))\n",
    "print(\"[TSLA]: {}\".format(tsla_returns))\n",
    "print(\"[GOOG]: {}\".format(goog_returns))\n",
    "print(\"[AAPL]: {}\".format(aapl_returns))"
   ]
  },
  {
   "cell_type": "code",
   "execution_count": null,
   "metadata": {},
   "outputs": [],
   "source": []
  }
 ],
 "metadata": {
  "kernelspec": {
   "display_name": "Python 3",
   "language": "python",
   "name": "python3"
  },
  "language_info": {
   "codemirror_mode": {
    "name": "ipython",
    "version": 3
   },
   "file_extension": ".py",
   "mimetype": "text/x-python",
   "name": "python",
   "nbconvert_exporter": "python",
   "pygments_lexer": "ipython3",
   "version": "3.6.4"
  }
 },
 "nbformat": 4,
 "nbformat_minor": 2
}
