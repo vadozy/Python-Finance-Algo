{
 "cells": [
  {
   "cell_type": "markdown",
   "metadata": {},
   "source": [
    "### Log Returns"
   ]
  },
  {
   "cell_type": "code",
   "execution_count": null,
   "metadata": {},
   "outputs": [],
   "source": [
    "import numpy as np\n",
    "import pandas as pd\n",
    "from scipy import stats\n",
    "\n",
    "import matplotlib.pyplot as plt"
   ]
  },
  {
   "cell_type": "code",
   "execution_count": null,
   "metadata": {},
   "outputs": [],
   "source": [
    "#stocks_dir = '/Volumes/Photos/stocks/'\n",
    "stocks_dir = './'\n",
    "\n",
    "symbols = ['UNH', 'AAPL', 'GOOG', 'TSLA', 'TWTR']\n",
    "\n",
    "stocks = {}  # key (str) - symbol, value - DataFrame\n",
    "\n",
    "roll_win = 1  # rolling window (days) for mean prices\n",
    "for s in symbols:\n",
    "    file_name = stocks_dir + s + '.csv'\n",
    "    df = pd.read_csv(file_name, index_col='Date', parse_dates=True, usecols=['Date', 'Adj. Close'])\n",
    "    df.columns = ['price']\n",
    "    df['price'] = df['price'].rolling(roll_win, center=True, min_periods=1).mean()\n",
    "    stocks[s] = df['price']\n",
    "\n",
    "\n",
    "sp500 = pd.read_csv('SP500_yahoo.csv', index_col='Date', parse_dates=True, na_values=['.'])\n",
    "sp500 = sp500[['Adj Close']]\n",
    "sp500.columns = ['price']\n",
    "sp500['price'] = sp500['price'].rolling(roll_win, center=True, min_periods=1).mean()\n",
    "sp500 = sp500['price']\n",
    "sp500 = sp500[sp500.index.isin(stocks[symbols[0]].index)]\n",
    "\n",
    "symbols.extend(['SPY'])\n",
    "stocks['SPY']  = sp500\n",
    "\n",
    "# Daily log returns\n",
    "stocks_ret = {k: pd.Series(np.log((v/v.shift()).iloc[1:]), name='log_ret') for k, v in stocks.items()}\n",
    "\n",
    "print(\"UNH prices\")\n",
    "print(stocks['UNH'].head(3))\n",
    "print(\"\\nUNH daily log returns\")\n",
    "print(stocks_ret['UNH'].head(3))"
   ]
  },
  {
   "cell_type": "code",
   "execution_count": null,
   "metadata": {},
   "outputs": [],
   "source": [
    "# Get data for the specified period and stocks\n",
    "start, end = '2015-01-01', '2018-01-01'\n",
    "asset_symbol, benchmark_symbol = 'UNH', 'SPY'\n",
    "\n",
    "asset = stocks[asset_symbol].loc[start:end]\n",
    "bench = stocks[benchmark_symbol].loc[start:end]\n",
    "\n",
    "asset_log_ret = stocks_ret[asset_symbol].loc[start:end]\n",
    "bench_log_ret = stocks_ret[benchmark_symbol].loc[start:end]"
   ]
  },
  {
   "cell_type": "code",
   "execution_count": null,
   "metadata": {},
   "outputs": [],
   "source": [
    "print(\"Sum log_ret {}: {}\".format(asset_symbol, asset_log_ret.sum()))\n",
    "print(\"Sum log_ret {}: {}\".format(benchmark_symbol, bench_log_ret.sum()))\n",
    "print(\"\\nTrue returns below:\")\n",
    "print(\"np.exp of sum log_ret {}: {}\".format(asset_symbol, np.exp(asset_log_ret.sum())))\n",
    "print(\"np.exp of sum log_ret {}: {}\".format(benchmark_symbol, np.exp(bench_log_ret.sum())))"
   ]
  },
  {
   "cell_type": "markdown",
   "metadata": {},
   "source": [
    "### Normal Returns (not Log)"
   ]
  },
  {
   "cell_type": "code",
   "execution_count": null,
   "metadata": {},
   "outputs": [],
   "source": [
    "#stocks_dir = '/Volumes/Photos/stocks/'\n",
    "stocks_dir = './'\n",
    "\n",
    "symbols = ['UNH', 'AAPL', 'GOOG', 'TSLA', 'TWTR']\n",
    "\n",
    "stocks = {}  # key (str) - symbol, value - DataFrame\n",
    "\n",
    "roll_win = 1  # rolling window (days) for mean prices\n",
    "for s in symbols:\n",
    "    file_name = stocks_dir + s + '.csv'\n",
    "    df = pd.read_csv(file_name, index_col='Date', parse_dates=True, usecols=['Date', 'Adj. Close'])\n",
    "    df.columns = ['price']\n",
    "    df['price'] = df['price'].rolling(roll_win, center=True, min_periods=1).mean()\n",
    "    stocks[s] = df['price']\n",
    "\n",
    "\n",
    "sp500 = pd.read_csv('SP500_yahoo.csv', index_col='Date', parse_dates=True, na_values=['.'])\n",
    "sp500 = sp500[['Adj Close']]\n",
    "sp500.columns = ['price']\n",
    "sp500['price'] = sp500['price'].rolling(roll_win, center=True, min_periods=1).mean()\n",
    "sp500 = sp500['price']\n",
    "sp500 = sp500[sp500.index.isin(stocks[symbols[0]].index)]\n",
    "\n",
    "symbols.extend(['SPY'])\n",
    "stocks['SPY']  = sp500\n",
    "\n",
    "# Daily returns\n",
    "stocks_ret = {k: pd.Series(v.pct_change()[1:], name='daily_ret') for k, v in stocks.items()}\n",
    "\n",
    "print(\"UNH prices\")\n",
    "print(stocks['UNH'].head(3))\n",
    "print(\"\\nUNH daily returns\")\n",
    "print(stocks_ret['UNH'].head(3))"
   ]
  },
  {
   "cell_type": "code",
   "execution_count": null,
   "metadata": {},
   "outputs": [],
   "source": [
    "asset_symbol, benchmark_symbol = 'UNH', 'SPY'\n",
    "\n",
    "asset = stocks[asset_symbol].loc[start:end]\n",
    "bench = stocks[benchmark_symbol].loc[start:end]\n",
    "\n",
    "asset_ret = stocks_ret[asset_symbol].loc[start:end]\n",
    "bench_ret = stocks_ret[benchmark_symbol].loc[start:end]"
   ]
  },
  {
   "cell_type": "code",
   "execution_count": null,
   "metadata": {},
   "outputs": [],
   "source": [
    "print(\"\\nTrue returns below:\")\n",
    "\n",
    "asset_cumprod_ret = pd.Series((asset_ret + 1.0).cumprod(), name='cum_ret')\n",
    "bench_cumprod_ret = pd.Series((bench_ret + 1.0).cumprod(), name='cum_ret')\n",
    "\n",
    "print(\"{}: {}\".format(asset_symbol, asset_cumprod_ret.iloc[-1]))\n",
    "print(\"{}: {}\".format(benchmark_symbol, bench_cumprod_ret.iloc[-1]))"
   ]
  },
  {
   "cell_type": "code",
   "execution_count": null,
   "metadata": {},
   "outputs": [],
   "source": []
  }
 ],
 "metadata": {
  "kernelspec": {
   "display_name": "Python 3",
   "language": "python",
   "name": "python3"
  },
  "language_info": {
   "codemirror_mode": {
    "name": "ipython",
    "version": 3
   },
   "file_extension": ".py",
   "mimetype": "text/x-python",
   "name": "python",
   "nbconvert_exporter": "python",
   "pygments_lexer": "ipython3",
   "version": "3.6.4"
  }
 },
 "nbformat": 4,
 "nbformat_minor": 2
}
