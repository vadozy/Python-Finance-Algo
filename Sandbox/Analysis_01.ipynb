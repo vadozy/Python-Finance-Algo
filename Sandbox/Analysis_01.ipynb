{
 "cells": [
  {
   "cell_type": "code",
   "execution_count": null,
   "metadata": {},
   "outputs": [],
   "source": [
    "import numpy as np\n",
    "import pandas as pd\n",
    "\n",
    "import matplotlib.pyplot as plt\n",
    "%matplotlib inline\n",
    "\n",
    "import util"
   ]
  },
  {
   "cell_type": "code",
   "execution_count": null,
   "metadata": {},
   "outputs": [],
   "source": [
    "stocks_dir = '/Volumes/Photos/stocks/'\n",
    "symbol = 'UNH'\n",
    "file_name = stocks_dir + symbol + '.csv'\n",
    "unh = pd.read_csv(file_name, index_col='Date', parse_dates=True)\n",
    "unh.head()\n",
    "\n",
    "ru2000 = pd.read_csv('RUSSELL2000_yahoo.csv', index_col='Date', parse_dates=True, na_values=['.'])\n",
    "ru2000 = ru2000[['Adj Close']]\n",
    "ru2000.columns = ['Adj. Close']\n",
    "\n",
    "sp500 = pd.read_csv('SP500_yahoo.csv', index_col='Date', parse_dates=True, na_values=['.'])\n",
    "sp500 = sp500[['Adj Close']]\n",
    "sp500.columns = ['Adj. Close']"
   ]
  },
  {
   "cell_type": "code",
   "execution_count": null,
   "metadata": {},
   "outputs": [],
   "source": [
    "industries = util.parse_US_Large_Cap()\n",
    "for ind in industries.keys():\n",
    "    print(\"{:<30} : {:>2}\".format(ind, len(industries[ind])))"
   ]
  },
  {
   "cell_type": "code",
   "execution_count": null,
   "metadata": {},
   "outputs": [],
   "source": [
    "print(unh[['Adj. Close']].info())\n",
    "print(ru2000.info())\n",
    "print(sp500.info())"
   ]
  },
  {
   "cell_type": "code",
   "execution_count": null,
   "metadata": {},
   "outputs": [],
   "source": [
    "start_date, end_date, months = '2009-01-01', '2018-01-01', 12\n",
    "\n",
    "for d1, d2 in util.generate_periods(start_date, end_date, months):\n",
    "    print(\"[ {} : {} ] {} {:<6}\".format(d1, d2, 'UNH', util.accumulated_returns(unh['Adj. Close'], d1, d2)))"
   ]
  },
  {
   "cell_type": "code",
   "execution_count": null,
   "metadata": {},
   "outputs": [],
   "source": [
    "df = pd.DataFrame()\n",
    "\n",
    "it = util.generate_periods(start_date, end_date, months)\n",
    "\n",
    "df['UNH']    = [ util.accumulated_returns(unh['Adj. Close'], d1, d2)    for d1, d2 in it ]\n",
    "df['SP500']  = [ util.accumulated_returns(sp500['Adj. Close'], d1, d2)  for d1, d2 in it ]\n",
    "df['RU2000'] = [ util.accumulated_returns(ru2000['Adj. Close'], d1, d2) for d1, d2 in it ]\n",
    "\n",
    "df"
   ]
  },
  {
   "cell_type": "code",
   "execution_count": null,
   "metadata": {},
   "outputs": [],
   "source": [
    "df.corr()"
   ]
  },
  {
   "cell_type": "code",
   "execution_count": null,
   "metadata": {},
   "outputs": [],
   "source": []
  }
 ],
 "metadata": {
  "kernelspec": {
   "display_name": "Python 3",
   "language": "python",
   "name": "python3"
  },
  "language_info": {
   "codemirror_mode": {
    "name": "ipython",
    "version": 3
   },
   "file_extension": ".py",
   "mimetype": "text/x-python",
   "name": "python",
   "nbconvert_exporter": "python",
   "pygments_lexer": "ipython3",
   "version": "3.6.4"
  }
 },
 "nbformat": 4,
 "nbformat_minor": 2
}
