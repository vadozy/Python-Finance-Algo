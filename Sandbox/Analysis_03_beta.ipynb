{
 "cells": [
  {
   "cell_type": "code",
   "execution_count": null,
   "metadata": {},
   "outputs": [],
   "source": [
    "import numpy as np\n",
    "import pandas as pd\n",
    "from scipy import stats\n",
    "\n",
    "import matplotlib.pyplot as plt"
   ]
  },
  {
   "cell_type": "code",
   "execution_count": null,
   "metadata": {},
   "outputs": [],
   "source": [
    "#stocks_dir = '/Volumes/Photos/stocks/'\n",
    "stocks_dir = './'\n",
    "\n",
    "symbols = ['UNH', 'AAPL', 'GOOG', 'TSLA', 'TWTR']\n",
    "\n",
    "stocks = {}  # key (str) - symbol, value - DataFrame\n",
    "\n",
    "roll_win = 10  # rolling window (days) for mean prices\n",
    "for s in symbols:\n",
    "    file_name = stocks_dir + s + '.csv'\n",
    "    df = pd.read_csv(file_name, index_col='Date', parse_dates=True, usecols=['Date', 'Adj. Close'])\n",
    "    df.columns = ['price']\n",
    "    df['price'] = df['price'].rolling(roll_win, center=True, min_periods=1).mean()\n",
    "    stocks[s] = df['price']\n",
    "\n",
    "\n",
    "sp500 = pd.read_csv('SP500_yahoo.csv', index_col='Date', parse_dates=True, na_values=['.'])\n",
    "sp500 = sp500[['Adj Close']]\n",
    "sp500.columns = ['price']\n",
    "sp500['price'] = sp500['price'].rolling(roll_win, center=True, min_periods=1).mean()\n",
    "sp500 = sp500['price']\n",
    "sp500 = sp500[sp500.index.isin(stocks[symbols[0]].index)]\n",
    "\n",
    "symbols.extend(['SPY'])\n",
    "stocks['SPY']  = sp500\n",
    "\n",
    "# Daily returns\n",
    "stocks_ret = {k: pd.Series(v.pct_change().iloc[1:], name='daily_ret') for k, v in stocks.items()}\n",
    "\n",
    "print(\"UNH prices\")\n",
    "print(stocks['UNH'].head(3))\n",
    "print(\"\\nUNH daily returns\")\n",
    "print(stocks_ret['UNH'].head(3))"
   ]
  },
  {
   "cell_type": "code",
   "execution_count": null,
   "metadata": {},
   "outputs": [],
   "source": [
    "print(stocks['UNH'].shift().head(3))"
   ]
  },
  {
   "cell_type": "markdown",
   "metadata": {},
   "source": [
    "### Pick asset and benchmark"
   ]
  },
  {
   "cell_type": "code",
   "execution_count": null,
   "metadata": {},
   "outputs": [],
   "source": [
    "# Get data for the specified period and stocks\n",
    "start, end = '2015-01-01', '2018-01-01'\n",
    "asset_symbol, benchmark_symbol = 'UNH', 'SPY'\n",
    "\n",
    "asset = stocks[asset_symbol].loc[start:end]\n",
    "bench = stocks[benchmark_symbol].loc[start:end]\n",
    "\n",
    "asset_ret = stocks_ret[asset_symbol].loc[start:end]\n",
    "bench_ret = stocks_ret[benchmark_symbol].loc[start:end]"
   ]
  },
  {
   "cell_type": "code",
   "execution_count": null,
   "metadata": {},
   "outputs": [],
   "source": [
    "print(\"asset_ret std: {}\".format(asset_ret.std()))\n",
    "print(\"bench_ret std: {}\".format(bench_ret.std()))\n",
    "print(\"asset_ret.corr(bench_ret): {}\".format(asset_ret.corr(bench_ret)))\n",
    "print(\"beta = (asset_ret.corr(bench_ret) ) * (asset_ret std)/ (bench_ret std): {}\".format(asset_ret.corr(bench_ret) * asset_ret.std() / bench_ret.std()))"
   ]
  },
  {
   "cell_type": "code",
   "execution_count": null,
   "metadata": {},
   "outputs": [],
   "source": [
    "slope, intercept, r_value, p_value, std_err = stats.linregress(bench_ret, asset_ret)\n",
    "beta, alpha = slope, intercept\n",
    "print('beta: {}, alpha: {}'.format(slope, intercept))"
   ]
  },
  {
   "cell_type": "code",
   "execution_count": null,
   "metadata": {},
   "outputs": [],
   "source": [
    "v1 = asset.iloc[-1] / asset.iloc[0]\n",
    "v2 = bench.iloc[-1] / bench.iloc[0]\n",
    "print('{} return: {}, bench return: {}'.format(asset_symbol, round(v1, 3), round(v2, 3)))\n",
    "\n",
    "print('{} std: {}, bench std: {}'.format(asset_symbol, round(asset_ret.std(), 3), round(bench_ret.std(), 3)))"
   ]
  },
  {
   "cell_type": "code",
   "execution_count": null,
   "metadata": {},
   "outputs": [],
   "source": [
    "plt.figure(figsize=(14, 14))\n",
    "plt.scatter(bench_ret, asset_ret, alpha=0.5, s=50)\n",
    "plt.grid()\n",
    "plt.xlabel('SPY Ret')\n",
    "plt.ylabel(asset_symbol + ' Ret')\n",
    "lim = 0.08 / np.sqrt(roll_win)\n",
    "plt.xlim([-lim, lim])\n",
    "plt.ylim([-lim, lim])\n",
    "\n",
    "# Fit Line\n",
    "min_spy = bench_ret.values.min()\n",
    "max_spy = bench_ret.values.max()\n",
    "\n",
    "spy_line = np.linspace(min_spy,max_spy,100)\n",
    "y = spy_line * beta + alpha\n",
    "\n",
    "plt.plot(spy_line,y,'r');"
   ]
  },
  {
   "cell_type": "code",
   "execution_count": null,
   "metadata": {},
   "outputs": [],
   "source": []
  }
 ],
 "metadata": {
  "kernelspec": {
   "display_name": "Python 3",
   "language": "python",
   "name": "python3"
  },
  "language_info": {
   "codemirror_mode": {
    "name": "ipython",
    "version": 3
   },
   "file_extension": ".py",
   "mimetype": "text/x-python",
   "name": "python",
   "nbconvert_exporter": "python",
   "pygments_lexer": "ipython3",
   "version": "3.6.4"
  }
 },
 "nbformat": 4,
 "nbformat_minor": 2
}
