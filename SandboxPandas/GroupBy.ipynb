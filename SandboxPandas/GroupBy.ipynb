{
 "cells": [
  {
   "cell_type": "code",
   "execution_count": 1,
   "metadata": {},
   "outputs": [],
   "source": [
    "import pandas as pd\n",
    "import numpy as np\n",
    "import matplotlib.pyplot as plt"
   ]
  },
  {
   "cell_type": "code",
   "execution_count": 2,
   "metadata": {},
   "outputs": [],
   "source": [
    "df = pd.DataFrame(np.random.randn(6, 3), columns=['A', 'B', 'C'], index=[[10, 10, 20, 20, 30, 30], [100, 200, 100, 200, 100, 200]])\n",
    "df.index.names = ['lev_0', 'lev_1']\n",
    "df.columns.names = ['col_0']"
   ]
  },
  {
   "cell_type": "code",
   "execution_count": 3,
   "metadata": {},
   "outputs": [
    {
     "data": {
      "text/html": [
       "<div>\n",
       "<style scoped>\n",
       "    .dataframe tbody tr th:only-of-type {\n",
       "        vertical-align: middle;\n",
       "    }\n",
       "\n",
       "    .dataframe tbody tr th {\n",
       "        vertical-align: top;\n",
       "    }\n",
       "\n",
       "    .dataframe thead th {\n",
       "        text-align: right;\n",
       "    }\n",
       "</style>\n",
       "<table border=\"1\" class=\"dataframe\">\n",
       "  <thead>\n",
       "    <tr style=\"text-align: right;\">\n",
       "      <th></th>\n",
       "      <th>col_0</th>\n",
       "      <th>A</th>\n",
       "      <th>B</th>\n",
       "      <th>C</th>\n",
       "    </tr>\n",
       "    <tr>\n",
       "      <th>lev_0</th>\n",
       "      <th>lev_1</th>\n",
       "      <th></th>\n",
       "      <th></th>\n",
       "      <th></th>\n",
       "    </tr>\n",
       "  </thead>\n",
       "  <tbody>\n",
       "    <tr>\n",
       "      <th rowspan=\"2\" valign=\"top\">10</th>\n",
       "      <th>100</th>\n",
       "      <td>0.335925</td>\n",
       "      <td>-0.662933</td>\n",
       "      <td>0.159418</td>\n",
       "    </tr>\n",
       "    <tr>\n",
       "      <th>200</th>\n",
       "      <td>-0.344063</td>\n",
       "      <td>0.063867</td>\n",
       "      <td>-1.684276</td>\n",
       "    </tr>\n",
       "    <tr>\n",
       "      <th rowspan=\"2\" valign=\"top\">20</th>\n",
       "      <th>100</th>\n",
       "      <td>-0.193312</td>\n",
       "      <td>-0.631889</td>\n",
       "      <td>0.523957</td>\n",
       "    </tr>\n",
       "    <tr>\n",
       "      <th>200</th>\n",
       "      <td>-1.610473</td>\n",
       "      <td>-0.206070</td>\n",
       "      <td>0.281418</td>\n",
       "    </tr>\n",
       "    <tr>\n",
       "      <th rowspan=\"2\" valign=\"top\">30</th>\n",
       "      <th>100</th>\n",
       "      <td>0.797771</td>\n",
       "      <td>1.376906</td>\n",
       "      <td>0.351149</td>\n",
       "    </tr>\n",
       "    <tr>\n",
       "      <th>200</th>\n",
       "      <td>0.256967</td>\n",
       "      <td>-0.403382</td>\n",
       "      <td>0.510767</td>\n",
       "    </tr>\n",
       "  </tbody>\n",
       "</table>\n",
       "</div>"
      ],
      "text/plain": [
       "col_0               A         B         C\n",
       "lev_0 lev_1                              \n",
       "10    100    0.335925 -0.662933  0.159418\n",
       "      200   -0.344063  0.063867 -1.684276\n",
       "20    100   -0.193312 -0.631889  0.523957\n",
       "      200   -1.610473 -0.206070  0.281418\n",
       "30    100    0.797771  1.376906  0.351149\n",
       "      200    0.256967 -0.403382  0.510767"
      ]
     },
     "execution_count": 3,
     "metadata": {},
     "output_type": "execute_result"
    }
   ],
   "source": [
    "df"
   ]
  },
  {
   "cell_type": "code",
   "execution_count": 4,
   "metadata": {},
   "outputs": [
    {
     "data": {
      "text/html": [
       "<div>\n",
       "<style scoped>\n",
       "    .dataframe tbody tr th:only-of-type {\n",
       "        vertical-align: middle;\n",
       "    }\n",
       "\n",
       "    .dataframe tbody tr th {\n",
       "        vertical-align: top;\n",
       "    }\n",
       "\n",
       "    .dataframe thead th {\n",
       "        text-align: right;\n",
       "    }\n",
       "</style>\n",
       "<table border=\"1\" class=\"dataframe\">\n",
       "  <thead>\n",
       "    <tr style=\"text-align: right;\">\n",
       "      <th>col_0</th>\n",
       "      <th>A</th>\n",
       "      <th>B</th>\n",
       "      <th>C</th>\n",
       "    </tr>\n",
       "    <tr>\n",
       "      <th>lev_0</th>\n",
       "      <th></th>\n",
       "      <th></th>\n",
       "      <th></th>\n",
       "    </tr>\n",
       "  </thead>\n",
       "  <tbody>\n",
       "    <tr>\n",
       "      <th>10</th>\n",
       "      <td>-0.008137</td>\n",
       "      <td>-0.599066</td>\n",
       "      <td>-1.524857</td>\n",
       "    </tr>\n",
       "    <tr>\n",
       "      <th>20</th>\n",
       "      <td>-1.803785</td>\n",
       "      <td>-0.837959</td>\n",
       "      <td>0.805375</td>\n",
       "    </tr>\n",
       "    <tr>\n",
       "      <th>30</th>\n",
       "      <td>1.054738</td>\n",
       "      <td>0.973524</td>\n",
       "      <td>0.861916</td>\n",
       "    </tr>\n",
       "  </tbody>\n",
       "</table>\n",
       "</div>"
      ],
      "text/plain": [
       "col_0         A         B         C\n",
       "lev_0                              \n",
       "10    -0.008137 -0.599066 -1.524857\n",
       "20    -1.803785 -0.837959  0.805375\n",
       "30     1.054738  0.973524  0.861916"
      ]
     },
     "execution_count": 4,
     "metadata": {},
     "output_type": "execute_result"
    }
   ],
   "source": [
    "df.groupby('lev_0').sum()"
   ]
  },
  {
   "cell_type": "code",
   "execution_count": 5,
   "metadata": {},
   "outputs": [],
   "source": [
    "df['AA'] = df['A'].apply(lambda x: 1 if x >=0 else -1)"
   ]
  },
  {
   "cell_type": "code",
   "execution_count": 6,
   "metadata": {},
   "outputs": [
    {
     "data": {
      "text/html": [
       "<div>\n",
       "<style scoped>\n",
       "    .dataframe tbody tr th:only-of-type {\n",
       "        vertical-align: middle;\n",
       "    }\n",
       "\n",
       "    .dataframe tbody tr th {\n",
       "        vertical-align: top;\n",
       "    }\n",
       "\n",
       "    .dataframe thead th {\n",
       "        text-align: right;\n",
       "    }\n",
       "</style>\n",
       "<table border=\"1\" class=\"dataframe\">\n",
       "  <thead>\n",
       "    <tr style=\"text-align: right;\">\n",
       "      <th>col_0</th>\n",
       "      <th>A</th>\n",
       "      <th>B</th>\n",
       "      <th>C</th>\n",
       "    </tr>\n",
       "    <tr>\n",
       "      <th>AA</th>\n",
       "      <th></th>\n",
       "      <th></th>\n",
       "      <th></th>\n",
       "    </tr>\n",
       "  </thead>\n",
       "  <tbody>\n",
       "    <tr>\n",
       "      <th>-1</th>\n",
       "      <td>-2.147848</td>\n",
       "      <td>-0.774092</td>\n",
       "      <td>-0.878900</td>\n",
       "    </tr>\n",
       "    <tr>\n",
       "      <th>1</th>\n",
       "      <td>1.390663</td>\n",
       "      <td>0.310591</td>\n",
       "      <td>1.021334</td>\n",
       "    </tr>\n",
       "  </tbody>\n",
       "</table>\n",
       "</div>"
      ],
      "text/plain": [
       "col_0         A         B         C\n",
       "AA                                 \n",
       "-1    -2.147848 -0.774092 -0.878900\n",
       " 1     1.390663  0.310591  1.021334"
      ]
     },
     "execution_count": 6,
     "metadata": {},
     "output_type": "execute_result"
    }
   ],
   "source": [
    "df.groupby('AA').sum()"
   ]
  },
  {
   "cell_type": "markdown",
   "metadata": {},
   "source": [
    "### Transformation"
   ]
  },
  {
   "cell_type": "code",
   "execution_count": 11,
   "metadata": {},
   "outputs": [
    {
     "name": "stdout",
     "output_type": "stream",
     "text": [
      "2000-01-08    0.590763\n",
      "2000-01-09    0.577147\n",
      "2000-01-10    0.555882\n",
      "2000-01-11    0.537729\n",
      "2000-01-12    0.480037\n",
      "Freq: D, dtype: float64\n",
      "\n",
      "\n",
      "2002-09-30    0.248637\n",
      "2002-10-01    0.289681\n",
      "2002-10-02    0.268917\n",
      "2002-10-03    0.303958\n",
      "2002-10-04    0.314647\n",
      "Freq: D, dtype: float64\n"
     ]
    }
   ],
   "source": [
    "nrows = 1100\n",
    "index = pd.date_range('10/1/1999', periods=nrows)\n",
    "ts = pd.Series(np.random.normal(0.5, 2, nrows), index)\n",
    "\n",
    "ts = ts.rolling(window=100,min_periods=100).mean().dropna()\n",
    "print(ts.head())\n",
    "print('\\n')\n",
    "print(ts.tail())"
   ]
  },
  {
   "cell_type": "code",
   "execution_count": 16,
   "metadata": {},
   "outputs": [
    {
     "name": "stdout",
     "output_type": "stream",
     "text": [
      "2000    0.515240\n",
      "2001    0.411192\n",
      "2002    0.411169\n",
      "dtype: float64\n",
      "\n",
      "\n",
      "2000    0.107156\n",
      "2001    0.194740\n",
      "2002    0.110188\n",
      "dtype: float64\n"
     ]
    }
   ],
   "source": [
    "key = lambda x: x.year\n",
    "grouped = ts.groupby(key)\n",
    "print(grouped.mean())\n",
    "print('\\n')\n",
    "print(grouped.std())"
   ]
  },
  {
   "cell_type": "code",
   "execution_count": 17,
   "metadata": {},
   "outputs": [
    {
     "name": "stdout",
     "output_type": "stream",
     "text": [
      "2000-01-08    0.704791\n",
      "2000-01-09    0.577724\n",
      "2000-01-10    0.379281\n",
      "2000-01-11    0.209874\n",
      "2000-01-12   -0.328515\n",
      "Freq: D, dtype: float64\n",
      "\n",
      "\n",
      "2002-09-30   -1.475040\n",
      "2002-10-01   -1.102553\n",
      "2002-10-02   -1.290989\n",
      "2002-10-03   -0.972981\n",
      "2002-10-04   -0.875978\n",
      "Freq: D, dtype: float64\n"
     ]
    }
   ],
   "source": [
    "zscore = lambda x: (x - x.mean()) / x.std()\n",
    "transformed = ts.groupby(key).transform(zscore)\n",
    "print(transformed.head())\n",
    "print('\\n')\n",
    "print(transformed.tail())"
   ]
  },
  {
   "cell_type": "code",
   "execution_count": 18,
   "metadata": {},
   "outputs": [
    {
     "name": "stdout",
     "output_type": "stream",
     "text": [
      "2000   -2.003968e-16\n",
      "2001   -2.372531e-16\n",
      "2002    1.935876e-16\n",
      "dtype: float64\n",
      "\n",
      "\n",
      "2000    1.0\n",
      "2001    1.0\n",
      "2002    1.0\n",
      "dtype: float64\n"
     ]
    }
   ],
   "source": [
    "grouped_trans = transformed.groupby(key)\n",
    "print(grouped_trans.mean())\n",
    "print('\\n')\n",
    "print(grouped_trans.std())"
   ]
  },
  {
   "cell_type": "markdown",
   "metadata": {},
   "source": [
    "### Filtration (like having() in sql)"
   ]
  },
  {
   "cell_type": "code",
   "execution_count": null,
   "metadata": {},
   "outputs": [],
   "source": []
  }
 ],
 "metadata": {
  "kernelspec": {
   "display_name": "Python 3",
   "language": "python",
   "name": "python3"
  },
  "language_info": {
   "codemirror_mode": {
    "name": "ipython",
    "version": 3
   },
   "file_extension": ".py",
   "mimetype": "text/x-python",
   "name": "python",
   "nbconvert_exporter": "python",
   "pygments_lexer": "ipython3",
   "version": "3.6.5"
  }
 },
 "nbformat": 4,
 "nbformat_minor": 2
}
