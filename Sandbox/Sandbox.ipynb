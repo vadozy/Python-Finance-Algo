{
 "cells": [
  {
   "cell_type": "code",
   "execution_count": null,
   "metadata": {},
   "outputs": [],
   "source": [
    "import numpy as np\n",
    "import pandas as pd\n",
    "import matplotlib.pyplot as plt\n",
    "%matplotlib inline\n",
    "\n",
    "import quandl\n",
    "\n",
    "import util"
   ]
  },
  {
   "cell_type": "code",
   "execution_count": null,
   "metadata": {},
   "outputs": [],
   "source": [
    "unh  = quandl.get(\"WIKI/UNH\", start_date=\"2000-01-01\", end_date=\"2018-03-10\")\n",
    "aapl = quandl.get(\"WIKI/AAPL\", start_date=\"2000-01-01\", end_date=\"2018-03-10\")\n",
    "tsla = quandl.get(\"WIKI/TSLA\", start_date=\"2000-01-01\", end_date=\"2018-03-10\")\n",
    "twtr = quandl.get(\"WIKI/TWTR\", start_date=\"2000-01-01\", end_date=\"2018-03-10\")\n",
    "goog = quandl.get(\"WIKI/GOOG\", start_date=\"2000-01-01\", end_date=\"2018-03-10\")\n",
    "ci   = quandl.get(\"WIKI/CI\", start_date=\"2000-01-01\", end_date=\"2018-03-10\")"
   ]
  },
  {
   "cell_type": "code",
   "execution_count": null,
   "metadata": {},
   "outputs": [],
   "source": [
    "print(len(unh))\n",
    "print(len(aapl))\n",
    "print(len(tsla))\n",
    "print(len(twtr))\n",
    "print(len(goog))\n",
    "print(len(ci))\n",
    "unh.head()"
   ]
  },
  {
   "cell_type": "code",
   "execution_count": null,
   "metadata": {},
   "outputs": [],
   "source": [
    "SP500_yahoo = pd.read_csv('SP500_yahoo.csv', index_col='Date', parse_dates=True, na_values=['.'])\n",
    "SP500_yahoo = SP500_yahoo[['Adj Close']]\n",
    "SP500_yahoo.columns = ['Adj. Close']\n",
    "\n",
    "ru2000_yahoo = pd.read_csv('RUSSELL2000_yahoo.csv', index_col='Date', parse_dates=True, na_values=['.'])\n",
    "ru2000_yahoo = ru2000_yahoo[['Adj Close']]\n",
    "ru2000_yahoo.columns = ['Adj. Close']"
   ]
  },
  {
   "cell_type": "code",
   "execution_count": null,
   "metadata": {},
   "outputs": [],
   "source": [
    "print(ru2000_yahoo.head())\n",
    "print(SP500_yahoo.head())\n",
    "\n",
    "print(ru2000_yahoo.tail())\n",
    "print(SP500_yahoo.tail())"
   ]
  },
  {
   "cell_type": "code",
   "execution_count": null,
   "metadata": {},
   "outputs": [],
   "source": [
    "date_from, date_to = '2000-01-01', '2018-03-01'\n",
    "\n",
    "print(ru2000_yahoo.loc[date_from:date_to]['Adj. Close'].corr(ru2000_yahoo.loc[date_from:date_to]['Adj. Close']))\n",
    "print(ru2000_yahoo.loc[date_from:date_to]['Adj. Close'].corr(SP500_yahoo.loc[date_from:date_to]['Adj. Close']))"
   ]
  },
  {
   "cell_type": "code",
   "execution_count": null,
   "metadata": {},
   "outputs": [],
   "source": [
    "d1, d2 = '2014-04-01', '2018-03-01'\n",
    "\n",
    "# key - symbol, value - series\n",
    "stocks = {\"Russell 2000\": ru2000_yahoo.loc[d1:d2].copy(), \n",
    "          \"SP500\": SP500_yahoo.loc[d1:d2].copy(), \n",
    "          \"UNH\": unh.loc[d1:d2].copy(), \n",
    "          \"TWTR\": twtr.loc[d1:d2].copy(), \n",
    "          \"TSLA\": tsla.loc[d1:d2].copy(), \n",
    "          \"GOOG\": goog.loc[d1:d2].copy(), \n",
    "          \"AAPL\": aapl.loc[d1:d2].copy().copy(), \n",
    "          \"CI\": ci.loc[d1:d2].copy()}\n",
    "\n",
    "df_ret_bp = pd.DataFrame()\n",
    "\n",
    "for k, df in stocks.items():\n",
    "    df['ret_bp'] = 1e4 * df['Adj. Close'].pct_change().fillna(0)\n",
    "    df['cum_ret'] = (1 + df['ret_bp'] / 1e4).cumprod()\n",
    "    df_ret_bp[k] = df['ret_bp']\n",
    "\n",
    "for k, v in stocks.items():\n",
    "    print(\"[{:<14}] : {}\".format(k, util.accumulated_returns(v['Adj. Close'], d1, d2)))"
   ]
  },
  {
   "cell_type": "code",
   "execution_count": null,
   "metadata": {},
   "outputs": [],
   "source": [
    "print(util.accumulated_returns(stocks[\"UNH\"]['Adj. Close'], d1, d2))\n",
    "print(util.accumulated_returns(stocks[\"UNH\"]['cum_ret'], d1, d2))"
   ]
  },
  {
   "cell_type": "code",
   "execution_count": null,
   "metadata": {},
   "outputs": [],
   "source": [
    "df_ret_bp.corr()"
   ]
  }
 ],
 "metadata": {
  "kernelspec": {
   "display_name": "Python 3",
   "language": "python",
   "name": "python3"
  },
  "language_info": {
   "codemirror_mode": {
    "name": "ipython",
    "version": 3
   },
   "file_extension": ".py",
   "mimetype": "text/x-python",
   "name": "python",
   "nbconvert_exporter": "python",
   "pygments_lexer": "ipython3",
   "version": "3.6.4"
  }
 },
 "nbformat": 4,
 "nbformat_minor": 2
}
