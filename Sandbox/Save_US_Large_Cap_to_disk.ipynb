{
 "cells": [
  {
   "cell_type": "code",
   "execution_count": null,
   "metadata": {},
   "outputs": [],
   "source": [
    "import quandl\n",
    "quandl.ApiConfig.api_key = 'Em8m-oCZxjVjSJzotypy'\n",
    "\n",
    "import util\n",
    "import os.path"
   ]
  },
  {
   "cell_type": "code",
   "execution_count": null,
   "metadata": {},
   "outputs": [],
   "source": [
    "large_cap = util.parse_US_Large_Cap()"
   ]
  },
  {
   "cell_type": "code",
   "execution_count": null,
   "metadata": {},
   "outputs": [],
   "source": [
    "for k in large_cap.keys():\n",
    "    print(\"{:<30} : {:>2}\".format(k, len(large_cap[k])))"
   ]
  },
  {
   "cell_type": "code",
   "execution_count": null,
   "metadata": {},
   "outputs": [],
   "source": [
    "#dir = '/Volumes/Photos/stocks/'\n",
    "#\n",
    "#for ind in large_cap: \n",
    "#    for s in large_cap[ind]:\n",
    "#        sym = s.split('/')[1]\n",
    "#        file = dir + sym + '.csv'\n",
    "#        if os.path.exists(file):\n",
    "#            print(\"Skipping {}, file exists\".format(sym))\n",
    "#        else:\n",
    "#            print(\"Loading {} from quandl\".format(s))\n",
    "#            df = quandl.get(s, start_date=\"1990-01-01\", end_date=\"2018-04-01\")\n",
    "#            print(\"Saving {} to {}\".format(sym, file))\n",
    "#            df.to_csv(file)"
   ]
  },
  {
   "cell_type": "code",
   "execution_count": null,
   "metadata": {},
   "outputs": [],
   "source": []
  }
 ],
 "metadata": {
  "kernelspec": {
   "display_name": "Python 3",
   "language": "python",
   "name": "python3"
  },
  "language_info": {
   "codemirror_mode": {
    "name": "ipython",
    "version": 3
   },
   "file_extension": ".py",
   "mimetype": "text/x-python",
   "name": "python",
   "nbconvert_exporter": "python",
   "pygments_lexer": "ipython3",
   "version": "3.6.4"
  }
 },
 "nbformat": 4,
 "nbformat_minor": 2
}
