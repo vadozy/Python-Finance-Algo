{
 "cells": [
  {
   "cell_type": "code",
   "execution_count": null,
   "metadata": {},
   "outputs": [],
   "source": [
    "import re\n",
    "from collections import defaultdict"
   ]
  },
  {
   "cell_type": "markdown",
   "metadata": {},
   "source": [
    "<b>Parse US_Large_Cap.txt</b>"
   ]
  },
  {
   "cell_type": "code",
   "execution_count": null,
   "metadata": {},
   "outputs": [],
   "source": [
    "stocks = set()\n",
    "industries = defaultdict(set)\n",
    "\n",
    "with open('US_Large_Cap.txt') as f:\n",
    "    \n",
    "    for line in f:\n",
    "        \n",
    "        industry_match = re.match( r'.*--\\s*(.*)', line)\n",
    "        \n",
    "        if industry_match:\n",
    "            ind = industry_match.group(1)\n",
    "        \n",
    "        stock_match = re.match( r'.*(WIKI/\\S*)', line)\n",
    "        \n",
    "        if stock_match:\n",
    "            s = stock_match.group(1)\n",
    "            industries[ind].add(s)\n",
    "            stocks.add(s)\n",
    "\n",
    "i = 0\n",
    "print(\"-- -- -- -- -- -- -- -- -- -- -- -- -- -- --\")\n",
    "for k, v in industries.items():\n",
    "    print('{:<30}: {}'.format(k, len(v)))\n",
    "    i += len(v)\n",
    "print(\"-- -- -- -- -- -- -- -- -- -- -- -- -- -- --\")\n",
    "\n",
    "\n",
    "print(\"Distinct Industries = {}\".format(len(industries)))\n",
    "print(\"Distinct Stocks = {}\".format(len(stocks)))\n",
    "print(\"Double Counted Stocks = {}\".format(i))"
   ]
  },
  {
   "cell_type": "markdown",
   "metadata": {},
   "source": [
    "<b>Parse WIKI-datasets-codes.csv</b>"
   ]
  },
  {
   "cell_type": "code",
   "execution_count": null,
   "metadata": {},
   "outputs": [],
   "source": [
    "quandl_wiki_stocks = set()\n",
    "\n",
    "with open('WIKI-datasets-codes.csv') as f:\n",
    "    \n",
    "    for line in f:\n",
    "        \n",
    "        stock_match = re.match( r'.*(WIKI/[^,]*)', line)\n",
    "        \n",
    "        if stock_match:\n",
    "            s = stock_match.group(1)\n",
    "            quandl_wiki_stocks.add(s)\n",
    "            \n",
    "print(\"Distinct Quandl Wiki Stocks = {}\".format(len(quandl_wiki_stocks)))"
   ]
  },
  {
   "cell_type": "code",
   "execution_count": null,
   "metadata": {},
   "outputs": [],
   "source": [
    "print(\"Stocks Common in 2 sets: {}\".format(len(quandl_wiki_stocks.intersection(stocks))))\n",
    "print(\"Stocks only in Quandl Wiki: {}\".format(len(quandl_wiki_stocks.difference(stocks))))\n",
    "print(\"Stocks only in Large Cap: {}\".format(len(stocks.difference(quandl_wiki_stocks))))"
   ]
  },
  {
   "cell_type": "markdown",
   "metadata": {},
   "source": [
    "<b> Remove from industries map stocks that Quandl Wiki does not have</b>"
   ]
  },
  {
   "cell_type": "code",
   "execution_count": null,
   "metadata": {},
   "outputs": [],
   "source": [
    "for _, v in industries.items():\n",
    "    v &= quandl_wiki_stocks\n",
    "\n",
    "i = 0\n",
    "s = set()\n",
    "for _, v in industries.items():\n",
    "    i += len(v)\n",
    "    s |= v\n",
    "\n",
    "print(\"Total Unique Stocks Left: {}\".format(len(s)))\n",
    "print(\"Total Duplicate Stocks Left: {}\".format(i))"
   ]
  },
  {
   "cell_type": "code",
   "execution_count": null,
   "metadata": {},
   "outputs": [],
   "source": []
  }
 ],
 "metadata": {
  "kernelspec": {
   "display_name": "Python 3",
   "language": "python",
   "name": "python3"
  },
  "language_info": {
   "codemirror_mode": {
    "name": "ipython",
    "version": 3
   },
   "file_extension": ".py",
   "mimetype": "text/x-python",
   "name": "python",
   "nbconvert_exporter": "python",
   "pygments_lexer": "ipython3",
   "version": "3.6.4"
  }
 },
 "nbformat": 4,
 "nbformat_minor": 2
}
